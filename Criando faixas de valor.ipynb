{
 "cells": [
  {
   "cell_type": "code",
   "execution_count": 1,
   "id": "b00d6ec8-81a5-4b5a-baaa-4373eb46ac33",
   "metadata": {},
   "outputs": [],
   "source": [
    "import pandas as pd"
   ]
  },
  {
   "cell_type": "code",
   "execution_count": 2,
   "id": "464b59ba-62f9-4e6d-9ae3-879705a9a73e",
   "metadata": {},
   "outputs": [],
   "source": [
    "dados = pd.read_csv('dados/aluguel_residencial.csv', sep = ';')"
   ]
  },
  {
   "cell_type": "code",
   "execution_count": 4,
   "id": "3235864a-657a-436a-b797-e9bb1939d1b8",
   "metadata": {},
   "outputs": [],
   "source": [
    "# 1 e 2\n",
    "# 3 e 4\n",
    "# 5 e 6\n",
    "# 7+\n",
    "classes = [0, 2 ,4 ,6, 100]"
   ]
  },
  {
   "cell_type": "code",
   "execution_count": 5,
   "id": "f3e92409-004c-439b-9f8d-a5c51b042cfd",
   "metadata": {},
   "outputs": [
    {
     "data": {
      "text/plain": [
       "0        (0.0, 2.0]\n",
       "1        (0.0, 2.0]\n",
       "2        (0.0, 2.0]\n",
       "3        (0.0, 2.0]\n",
       "4        (0.0, 2.0]\n",
       "            ...    \n",
       "21821    (0.0, 2.0]\n",
       "21822           NaN\n",
       "21823    (2.0, 4.0]\n",
       "21824    (0.0, 2.0]\n",
       "21825    (0.0, 2.0]\n",
       "Name: Quartos, Length: 21826, dtype: category\n",
       "Categories (4, interval[int64, right]): [(0, 2] < (2, 4] < (4, 6] < (6, 100]]"
      ]
     },
     "execution_count": 5,
     "metadata": {},
     "output_type": "execute_result"
    }
   ],
   "source": [
    "quartos =  pd.cut(dados.Quartos, classes)\n",
    "quartos"
   ]
  },
  {
   "cell_type": "code",
   "execution_count": 7,
   "id": "c1602e8a-a481-41d9-a179-d89588ecca55",
   "metadata": {},
   "outputs": [
    {
     "data": {
      "text/plain": [
       "(0, 2]      11250\n",
       "(2, 4]       9681\n",
       "(4, 6]        686\n",
       "(6, 100]       50\n",
       "Name: Quartos, dtype: int64"
      ]
     },
     "execution_count": 7,
     "metadata": {},
     "output_type": "execute_result"
    }
   ],
   "source": [
    "pd.value_counts(quartos)"
   ]
  },
  {
   "cell_type": "code",
   "execution_count": 8,
   "id": "798ac8d9-7852-4a98-b38e-17982978d36c",
   "metadata": {},
   "outputs": [],
   "source": [
    "labels = [ ' 1 e 2 quartos ' , ' 3 e 4 quartos ', ' 5 e 6 quartos ', ' 7 ou mais quartos ']"
   ]
  },
  {
   "cell_type": "code",
   "execution_count": 12,
   "id": "887b5eae-c206-43f9-b7eb-c8251b518889",
   "metadata": {},
   "outputs": [
    {
     "data": {
      "text/plain": [
       " 1 e 2 quartos         11409\n",
       " 3 e 4 quartos          9681\n",
       " 5 e 6 quartos           686\n",
       " 7 ou mais quartos        50\n",
       "Name: Quartos, dtype: int64"
      ]
     },
     "execution_count": 12,
     "metadata": {},
     "output_type": "execute_result"
    }
   ],
   "source": [
    " quartos = pd.cut(dados.Quartos, classes, labels= labels, include_lowest = True)\n",
    "pd.value_counts(quartos)"
   ]
  },
  {
   "cell_type": "code",
   "execution_count": null,
   "id": "7359dfc5-cf90-435e-906c-8fff3257cccb",
   "metadata": {},
   "outputs": [],
   "source": []
  }
 ],
 "metadata": {
  "kernelspec": {
   "display_name": "Python 3 (ipykernel)",
   "language": "python",
   "name": "python3"
  },
  "language_info": {
   "codemirror_mode": {
    "name": "ipython",
    "version": 3
   },
   "file_extension": ".py",
   "mimetype": "text/x-python",
   "name": "python",
   "nbconvert_exporter": "python",
   "pygments_lexer": "ipython3",
   "version": "3.9.13"
  }
 },
 "nbformat": 4,
 "nbformat_minor": 5
}
